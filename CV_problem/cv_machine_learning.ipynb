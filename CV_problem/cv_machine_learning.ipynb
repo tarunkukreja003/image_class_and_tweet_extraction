{
  "nbformat": 4,
  "nbformat_minor": 0,
  "metadata": {
    "colab": {
      "name": "cv_machine_learning.ipynb",
      "version": "0.3.2",
      "provenance": [],
      "collapsed_sections": []
    },
    "kernelspec": {
      "name": "python3",
      "display_name": "Python 3"
    },
    "accelerator": "GPU"
  },
  "cells": [
    {
      "metadata": {
        "id": "UZQcEnrxQT5K",
        "colab_type": "text"
      },
      "cell_type": "markdown",
      "source": [
        "# This notebook covers machine learning techniques for solving the computer vision problem as given in the problem statement. It is done on Google Colab jupyter notebook, since Google Colab offers great GPU and helps solve computationally expensive tasks easily"
      ]
    },
    {
      "metadata": {
        "id": "D3R7v-Lj375H",
        "colab_type": "text"
      },
      "cell_type": "markdown",
      "source": [
        "Setting up Google Colab"
      ]
    },
    {
      "metadata": {
        "id": "st5YFej9QUvZ",
        "colab_type": "code",
        "outputId": "97f448dc-894a-466e-b628-9e6fc6b8564b",
        "colab": {
          "base_uri": "https://localhost:8080/",
          "height": 207
        }
      },
      "cell_type": "code",
      "source": [
        "!pip install PyDrive"
      ],
      "execution_count": 137,
      "outputs": [
        {
          "output_type": "stream",
          "text": [
            "Requirement already satisfied: PyDrive in /usr/local/lib/python3.6/dist-packages (1.3.1)\n",
            "Requirement already satisfied: PyYAML>=3.0 in /usr/local/lib/python3.6/dist-packages (from PyDrive) (3.13)\n",
            "Requirement already satisfied: oauth2client>=4.0.0 in /usr/local/lib/python3.6/dist-packages (from PyDrive) (4.1.3)\n",
            "Requirement already satisfied: google-api-python-client>=1.2 in /usr/local/lib/python3.6/dist-packages (from PyDrive) (1.6.7)\n",
            "Requirement already satisfied: pyasn1-modules>=0.0.5 in /usr/local/lib/python3.6/dist-packages (from oauth2client>=4.0.0->PyDrive) (0.2.4)\n",
            "Requirement already satisfied: pyasn1>=0.1.7 in /usr/local/lib/python3.6/dist-packages (from oauth2client>=4.0.0->PyDrive) (0.4.5)\n",
            "Requirement already satisfied: rsa>=3.1.4 in /usr/local/lib/python3.6/dist-packages (from oauth2client>=4.0.0->PyDrive) (4.0)\n",
            "Requirement already satisfied: httplib2>=0.9.1 in /usr/local/lib/python3.6/dist-packages (from oauth2client>=4.0.0->PyDrive) (0.11.3)\n",
            "Requirement already satisfied: six>=1.6.1 in /usr/local/lib/python3.6/dist-packages (from oauth2client>=4.0.0->PyDrive) (1.11.0)\n",
            "Requirement already satisfied: uritemplate<4dev,>=3.0.0 in /usr/local/lib/python3.6/dist-packages (from google-api-python-client>=1.2->PyDrive) (3.0.0)\n"
          ],
          "name": "stdout"
        }
      ]
    },
    {
      "metadata": {
        "id": "G1oXO0PscRBm",
        "colab_type": "code",
        "colab": {}
      },
      "cell_type": "code",
      "source": [
        "import os\n",
        "from pydrive.auth import GoogleAuth\n",
        "from pydrive.drive import GoogleDrive\n",
        "from google.colab import auth\n",
        "from oauth2client.client import GoogleCredentials"
      ],
      "execution_count": 0,
      "outputs": []
    },
    {
      "metadata": {
        "id": "EfrLBZj_4E9O",
        "colab_type": "code",
        "colab": {}
      },
      "cell_type": "code",
      "source": [
        "auth.authenticate_user()\n",
        "gauth = GoogleAuth()\n",
        "gauth.credentials = GoogleCredentials.get_application_default()\n",
        "drive = GoogleDrive(gauth)"
      ],
      "execution_count": 0,
      "outputs": []
    },
    {
      "metadata": {
        "id": "tGYpypW54IGD",
        "colab_type": "text"
      },
      "cell_type": "markdown",
      "source": [
        "Importing the necessary libraries"
      ]
    },
    {
      "metadata": {
        "id": "bT6xTe-vePX1",
        "colab_type": "code",
        "colab": {}
      },
      "cell_type": "code",
      "source": [
        "import pickle\n",
        "import numpy as np\n",
        "import pandas as pd\n",
        "import matplotlib.pyplot as plt\n",
        "from sklearn.model_selection import train_test_split"
      ],
      "execution_count": 0,
      "outputs": []
    },
    {
      "metadata": {
        "id": "FbOaPLuNtQXv",
        "colab_type": "text"
      },
      "cell_type": "markdown",
      "source": [
        " Importing all classifier libraries"
      ]
    },
    {
      "metadata": {
        "id": "9-GkEeo_nzvD",
        "colab_type": "code",
        "colab": {}
      },
      "cell_type": "code",
      "source": [
        "from sklearn.neighbors import KNeighborsClassifier\n",
        "from sklearn import svm \n",
        "from sklearn.naive_bayes import GaussianNB\n",
        "from sklearn.tree import DecisionTreeClassifier\n",
        "from sklearn.ensemble import RandomForestClassifier\n",
        "from sklearn.model_selection import GridSearchCV\n",
        "from sklearn.metrics import accuracy_score"
      ],
      "execution_count": 0,
      "outputs": []
    },
    {
      "metadata": {
        "id": "jWs78MIs4XaO",
        "colab_type": "text"
      },
      "cell_type": "markdown",
      "source": [
        "Downloading of training images from Google Drive. ID refers to the id of the file in google drive"
      ]
    },
    {
      "metadata": {
        "id": "WaEm1_dMdLmy",
        "colab_type": "code",
        "colab": {}
      },
      "cell_type": "code",
      "source": [
        "download = drive.CreateFile({'id': ''})\n",
        "download.GetContentFile('train_image.pkl')\n",
        "with open('train_image.pkl', 'rb') as f:\n",
        "    train_images = pickle.load(f)"
      ],
      "execution_count": 0,
      "outputs": []
    },
    {
      "metadata": {
        "id": "Jqw6umDO4s8m",
        "colab_type": "text"
      },
      "cell_type": "markdown",
      "source": [
        "Downloading of training labels from Google Drive. ID refers to the id of the file in google drive"
      ]
    },
    {
      "metadata": {
        "id": "dLvpflgiddVx",
        "colab_type": "code",
        "colab": {}
      },
      "cell_type": "code",
      "source": [
        "download = drive.CreateFile({'id': ''})\n",
        "download.GetContentFile('train_label.pkl')\n",
        "with open('train_label.pkl', 'rb') as f:\n",
        "    train_labels = pickle.load(f)"
      ],
      "execution_count": 0,
      "outputs": []
    },
    {
      "metadata": {
        "id": "55AxJtvC44Uu",
        "colab_type": "text"
      },
      "cell_type": "markdown",
      "source": [
        "Exploration of training data"
      ]
    },
    {
      "metadata": {
        "id": "6BRfY6pseeEh",
        "colab_type": "code",
        "outputId": "ffd700a3-c503-4722-d216-41aaf0d8a09b",
        "colab": {
          "base_uri": "https://localhost:8080/",
          "height": 34
        }
      },
      "cell_type": "code",
      "source": [
        "len(train_images[0])\n",
        " "
      ],
      "execution_count": 145,
      "outputs": [
        {
          "output_type": "execute_result",
          "data": {
            "text/plain": [
              "784"
            ]
          },
          "metadata": {
            "tags": []
          },
          "execution_count": 145
        }
      ]
    },
    {
      "metadata": {
        "id": "6OBE6TfE7a0c",
        "colab_type": "code",
        "outputId": "66344bdf-1260-4db2-c740-bc1d445bf208",
        "colab": {
          "base_uri": "https://localhost:8080/",
          "height": 34
        }
      },
      "cell_type": "code",
      "source": [
        "type(train_images)"
      ],
      "execution_count": 0,
      "outputs": [
        {
          "output_type": "execute_result",
          "data": {
            "text/plain": [
              "list"
            ]
          },
          "metadata": {
            "tags": []
          },
          "execution_count": 8
        }
      ]
    },
    {
      "metadata": {
        "id": "wrIVt2Vhej2Y",
        "colab_type": "code",
        "colab": {}
      },
      "cell_type": "code",
      "source": [
        "# getting a glimpse of the training data\n",
        "data = pd.DataFrame({'label':train_labels, \n",
        "            'index': range(0, 8000)})"
      ],
      "execution_count": 0,
      "outputs": []
    },
    {
      "metadata": {
        "id": "FTyrybiMemwA",
        "colab_type": "code",
        "outputId": "83585daf-6565-47f6-d760-4ebd3ea1220c",
        "colab": {
          "base_uri": "https://localhost:8080/",
          "height": 204
        }
      },
      "cell_type": "code",
      "source": [
        "data.head()"
      ],
      "execution_count": 0,
      "outputs": [
        {
          "output_type": "execute_result",
          "data": {
            "text/html": [
              "<div>\n",
              "<style scoped>\n",
              "    .dataframe tbody tr th:only-of-type {\n",
              "        vertical-align: middle;\n",
              "    }\n",
              "\n",
              "    .dataframe tbody tr th {\n",
              "        vertical-align: top;\n",
              "    }\n",
              "\n",
              "    .dataframe thead th {\n",
              "        text-align: right;\n",
              "    }\n",
              "</style>\n",
              "<table border=\"1\" class=\"dataframe\">\n",
              "  <thead>\n",
              "    <tr style=\"text-align: right;\">\n",
              "      <th></th>\n",
              "      <th>index</th>\n",
              "      <th>label</th>\n",
              "    </tr>\n",
              "  </thead>\n",
              "  <tbody>\n",
              "    <tr>\n",
              "      <th>0</th>\n",
              "      <td>0</td>\n",
              "      <td>0</td>\n",
              "    </tr>\n",
              "    <tr>\n",
              "      <th>1</th>\n",
              "      <td>1</td>\n",
              "      <td>0</td>\n",
              "    </tr>\n",
              "    <tr>\n",
              "      <th>2</th>\n",
              "      <td>2</td>\n",
              "      <td>0</td>\n",
              "    </tr>\n",
              "    <tr>\n",
              "      <th>3</th>\n",
              "      <td>3</td>\n",
              "      <td>0</td>\n",
              "    </tr>\n",
              "    <tr>\n",
              "      <th>4</th>\n",
              "      <td>4</td>\n",
              "      <td>0</td>\n",
              "    </tr>\n",
              "  </tbody>\n",
              "</table>\n",
              "</div>"
            ],
            "text/plain": [
              "   index  label\n",
              "0      0      0\n",
              "1      1      0\n",
              "2      2      0\n",
              "3      3      0\n",
              "4      4      0"
            ]
          },
          "metadata": {
            "tags": []
          },
          "execution_count": 11
        }
      ]
    },
    {
      "metadata": {
        "id": "JC6Hj5CI5ZKc",
        "colab_type": "text"
      },
      "cell_type": "markdown",
      "source": [
        "Assigning the label values to a variable y. y refers to the labels that should be assigned to the images"
      ]
    },
    {
      "metadata": {
        "id": "Gf4PFlGFf0GD",
        "colab_type": "code",
        "colab": {}
      },
      "cell_type": "code",
      "source": [
        "y=data['label'].values\n"
      ],
      "execution_count": 0,
      "outputs": []
    },
    {
      "metadata": {
        "id": "VK_h1-59qwiJ",
        "colab_type": "code",
        "outputId": "83b94f9c-d0f2-4773-ef1a-9b2136ee9dab",
        "colab": {
          "base_uri": "https://localhost:8080/",
          "height": 34
        }
      },
      "cell_type": "code",
      "source": [
        "len(y)"
      ],
      "execution_count": 0,
      "outputs": [
        {
          "output_type": "execute_result",
          "data": {
            "text/plain": [
              "8000"
            ]
          },
          "metadata": {
            "tags": []
          },
          "execution_count": 13
        }
      ]
    },
    {
      "metadata": {
        "id": "hiYp5s1t7via",
        "colab_type": "code",
        "outputId": "455771c0-9c9e-4bde-b42a-a5be9c092871",
        "colab": {
          "base_uri": "https://localhost:8080/",
          "height": 34
        }
      },
      "cell_type": "code",
      "source": [
        "type(y)"
      ],
      "execution_count": 0,
      "outputs": [
        {
          "output_type": "execute_result",
          "data": {
            "text/plain": [
              "numpy.ndarray"
            ]
          },
          "metadata": {
            "tags": []
          },
          "execution_count": 14
        }
      ]
    },
    {
      "metadata": {
        "id": "E0kpcWTL6uj3",
        "colab_type": "text"
      },
      "cell_type": "markdown",
      "source": [
        "converting training images into a numpy array to check the shape of training images"
      ]
    },
    {
      "metadata": {
        "id": "TiBfbWNmggfN",
        "colab_type": "code",
        "colab": {}
      },
      "cell_type": "code",
      "source": [
        "X = np.array(train_images)"
      ],
      "execution_count": 0,
      "outputs": []
    },
    {
      "metadata": {
        "id": "T_XmqtC5qAVh",
        "colab_type": "code",
        "outputId": "b8c42e66-3948-458a-81c1-dc14cdf0b08c",
        "colab": {
          "base_uri": "https://localhost:8080/",
          "height": 34
        }
      },
      "cell_type": "code",
      "source": [
        "X.shape"
      ],
      "execution_count": 147,
      "outputs": [
        {
          "output_type": "execute_result",
          "data": {
            "text/plain": [
              "(8000, 784)"
            ]
          },
          "metadata": {
            "tags": []
          },
          "execution_count": 147
        }
      ]
    },
    {
      "metadata": {
        "id": "2nf1avUC-3Fp",
        "colab_type": "text"
      },
      "cell_type": "markdown",
      "source": [
        "Dividing the data into training and cross validation set. This is very important since we can test out the performance of the algorithm on the cross validation set and experiment with the algorithms to get a better performance. When we get our best performance we use that algorithm for the test set. Evaluation on the test set is done only once."
      ]
    },
    {
      "metadata": {
        "id": "GyJueqwipgpx",
        "colab_type": "code",
        "colab": {}
      },
      "cell_type": "code",
      "source": [
        "X_train, X_val, y_train, y_val = train_test_split(X, y, random_state=42, test_size=0.2)"
      ],
      "execution_count": 0,
      "outputs": []
    },
    {
      "metadata": {
        "id": "n9Atxzyq_mqm",
        "colab_type": "text"
      },
      "cell_type": "markdown",
      "source": [
        "## Model 1 -->* K-Nearest Neighbour*. This can be used for both classification and regression problems. Since our problem involves multicalss classification, we can start with this classifier"
      ]
    },
    {
      "metadata": {
        "id": "STTcXC4fbXCY",
        "colab_type": "text"
      },
      "cell_type": "markdown",
      "source": [
        "K-Nearest Neighbour classifier takes one argumet that is the number of neighbours. We can experiment with different values satrting with 2"
      ]
    },
    {
      "metadata": {
        "id": "vZ5iEleMgyoF",
        "colab_type": "code",
        "colab": {}
      },
      "cell_type": "code",
      "source": [
        "model = KNeighborsClassifier(n_neighbors=2)"
      ],
      "execution_count": 0,
      "outputs": []
    },
    {
      "metadata": {
        "id": "EzDwpFvenwfW",
        "colab_type": "code",
        "outputId": "e270543f-f489-4af2-f3f9-d881f7e30261",
        "colab": {
          "base_uri": "https://localhost:8080/",
          "height": 68
        }
      },
      "cell_type": "code",
      "source": [
        "model.fit(X_train, y_train)"
      ],
      "execution_count": 152,
      "outputs": [
        {
          "output_type": "execute_result",
          "data": {
            "text/plain": [
              "KNeighborsClassifier(algorithm='auto', leaf_size=30, metric='minkowski',\n",
              "           metric_params=None, n_jobs=None, n_neighbors=2, p=2,\n",
              "           weights='uniform')"
            ]
          },
          "metadata": {
            "tags": []
          },
          "execution_count": 152
        }
      ]
    },
    {
      "metadata": {
        "id": "XYz2qaxVAgGK",
        "colab_type": "text"
      },
      "cell_type": "markdown",
      "source": [
        "Testing the accuracy on training set and cross validation set. Checking on  training set is also very important to let us know of the overfirring, underfitting and a good fit"
      ]
    },
    {
      "metadata": {
        "id": "K-4dEmX9pkBG",
        "colab_type": "code",
        "outputId": "9bbd8677-917f-4457-b2eb-535e0ae87fd3",
        "colab": {
          "base_uri": "https://localhost:8080/",
          "height": 51
        }
      },
      "cell_type": "code",
      "source": [
        "# predict function in this case is used to predict the classes for the inputed data\n",
        "print(\"Accuracy on Training Set {}\".format(accuracy_score(y_train, model.predict(X_train))))\n",
        "print(\"Accuracy on Validation Set {}\".format(accuracy_score(y_val, model.predict(X_val))))"
      ],
      "execution_count": 153,
      "outputs": [
        {
          "output_type": "stream",
          "text": [
            "Accuracy on Training Set 0.88390625\n",
            "Accuracy on Validation Set 0.774375\n"
          ],
          "name": "stdout"
        }
      ]
    },
    {
      "metadata": {
        "id": "YeAA1uLHs6rI",
        "colab_type": "code",
        "colab": {
          "base_uri": "https://localhost:8080/",
          "height": 68
        },
        "outputId": "8e5e9e9f-1e5c-4d5e-b045-bc65856f9125"
      },
      "cell_type": "code",
      "source": [
        "model = KNeighborsClassifier(n_neighbors=3)\n",
        "model.fit(X_train, y_train)"
      ],
      "execution_count": 154,
      "outputs": [
        {
          "output_type": "execute_result",
          "data": {
            "text/plain": [
              "KNeighborsClassifier(algorithm='auto', leaf_size=30, metric='minkowski',\n",
              "           metric_params=None, n_jobs=None, n_neighbors=3, p=2,\n",
              "           weights='uniform')"
            ]
          },
          "metadata": {
            "tags": []
          },
          "execution_count": 154
        }
      ]
    },
    {
      "metadata": {
        "id": "wviBkM6VYrgJ",
        "colab_type": "code",
        "colab": {
          "base_uri": "https://localhost:8080/",
          "height": 51
        },
        "outputId": "255835cf-3f75-45d9-847a-58e0c812b0c1"
      },
      "cell_type": "code",
      "source": [
        "# predict function in this case is used to predict the classes for the inputed data\n",
        "print(\"Accuracy on Training Set {}\".format(accuracy_score(y_train, model.predict(X_train))))\n",
        "print(\"Accuracy on Validation Set {}\".format(accuracy_score(y_val, model.predict(X_val))))"
      ],
      "execution_count": 155,
      "outputs": [
        {
          "output_type": "stream",
          "text": [
            "Accuracy on Training Set 0.88546875\n",
            "Accuracy on Validation Set 0.794375\n"
          ],
          "name": "stdout"
        }
      ]
    },
    {
      "metadata": {
        "id": "RcJ7gRMTZFdI",
        "colab_type": "code",
        "colab": {
          "base_uri": "https://localhost:8080/",
          "height": 68
        },
        "outputId": "1d625c07-e2a1-4834-9c98-b4c066d7c590"
      },
      "cell_type": "code",
      "source": [
        "model = KNeighborsClassifier(n_neighbors=4)\n",
        "model.fit(X_train, y_train)"
      ],
      "execution_count": 156,
      "outputs": [
        {
          "output_type": "execute_result",
          "data": {
            "text/plain": [
              "KNeighborsClassifier(algorithm='auto', leaf_size=30, metric='minkowski',\n",
              "           metric_params=None, n_jobs=None, n_neighbors=4, p=2,\n",
              "           weights='uniform')"
            ]
          },
          "metadata": {
            "tags": []
          },
          "execution_count": 156
        }
      ]
    },
    {
      "metadata": {
        "id": "up1K-PdcZJIV",
        "colab_type": "code",
        "colab": {
          "base_uri": "https://localhost:8080/",
          "height": 51
        },
        "outputId": "f1def732-1862-47cf-c7c8-5f3b92ab0551"
      },
      "cell_type": "code",
      "source": [
        "# predict function in this case is used to predict the classes for the inputed data\n",
        "print(\"Accuracy on Training Set {}\".format(accuracy_score(y_train, model.predict(X_train))))\n",
        "print(\"Accuracy on Validation Set {}\".format(accuracy_score(y_val, model.predict(X_val))))"
      ],
      "execution_count": 157,
      "outputs": [
        {
          "output_type": "stream",
          "text": [
            "Accuracy on Training Set 0.861875\n",
            "Accuracy on Validation Set 0.789375\n"
          ],
          "name": "stdout"
        }
      ]
    },
    {
      "metadata": {
        "id": "5cs9dR9XbqNn",
        "colab_type": "text"
      },
      "cell_type": "markdown",
      "source": [
        "Hence n = 3 performs the best for K-Nearest Neighbour classifier"
      ]
    },
    {
      "metadata": {
        "id": "QYG36QpXBEBK",
        "colab_type": "text"
      },
      "cell_type": "markdown",
      "source": [
        "### Model 2 --> * Support Vector Machines*. This can also be used for both classification and regression problems. These are used heavily in classification problems because of its various advantages such as specifying custom kernels, and its effectiveness in high dimentional space"
      ]
    },
    {
      "metadata": {
        "id": "tmlRsZDDChMh",
        "colab_type": "text"
      },
      "cell_type": "markdown",
      "source": [
        "####  First variant of svm invoves using C-Support Vector Classification. SVC is so called because of its use of C parameter which is just like the regularization parameter. Usually if C is large the algorithm can make well separable decision boundary taking into account the outliers as well"
      ]
    },
    {
      "metadata": {
        "id": "fw-GOMqi7orX",
        "colab_type": "code",
        "colab": {}
      },
      "cell_type": "code",
      "source": [
        "# by default the kernel is gaussian kernel and gamma is the coefficient of the kernel, gamma should'nt be too large as it will lead to \n",
        "# overfitting, it should be set to 'scale', setting it to 'auto' leads to overfitting \n",
        "# C is by default 1.0\n",
        "model = svm.SVC(gamma='scale')"
      ],
      "execution_count": 0,
      "outputs": []
    },
    {
      "metadata": {
        "id": "8FLx8j2qY6I7",
        "colab_type": "code",
        "outputId": "a72dc501-9a86-497d-f380-0ba3abdd4044",
        "colab": {
          "base_uri": "https://localhost:8080/",
          "height": 85
        }
      },
      "cell_type": "code",
      "source": [
        "# training the model\n",
        "model.fit(X_train, y_train)"
      ],
      "execution_count": 0,
      "outputs": [
        {
          "output_type": "execute_result",
          "data": {
            "text/plain": [
              "SVC(C=1.0, cache_size=200, class_weight=None, coef0=0.0,\n",
              "  decision_function_shape='ovr', degree=3, gamma='scale', kernel='rbf',\n",
              "  max_iter=-1, probability=False, random_state=None, shrinking=True,\n",
              "  tol=0.001, verbose=False)"
            ]
          },
          "metadata": {
            "tags": []
          },
          "execution_count": 32
        }
      ]
    },
    {
      "metadata": {
        "id": "TWfkLHMFSOzh",
        "colab_type": "text"
      },
      "cell_type": "markdown",
      "source": [
        "### Gaussian Kernel should perform the best out of all kernels since here there is not a huge difference between the number of features and number of training examples, others -> linear, polynomial kernel performs well when there is a huge difference between n and m"
      ]
    },
    {
      "metadata": {
        "id": "YfBmM-PTZJri",
        "colab_type": "code",
        "outputId": "3b00f7ec-1716-44ad-fb49-f8ad5cd32f25",
        "colab": {
          "base_uri": "https://localhost:8080/",
          "height": 51
        }
      },
      "cell_type": "code",
      "source": [
        "print(\"Accuracy on Training Set {}\".format(accuracy_score(y_train, model.predict(X_train))))\n",
        "print(\"Accuracy on Validation Set {}\".format(accuracy_score(y_val, model.predict(X_val))))"
      ],
      "execution_count": 0,
      "outputs": [
        {
          "output_type": "stream",
          "text": [
            "Accuracy on Training Set 0.87875\n",
            "Accuracy on Validation Set 0.8225\n"
          ],
          "name": "stdout"
        }
      ]
    },
    {
      "metadata": {
        "id": "6TfHRCwcFScG",
        "colab_type": "text"
      },
      "cell_type": "markdown",
      "source": [
        "The above model provides good accuracy, but let's see whether it can be better by tuning the parameters"
      ]
    },
    {
      "metadata": {
        "id": "Wao1JgiYFc2t",
        "colab_type": "text"
      },
      "cell_type": "markdown",
      "source": [
        "### Now, setting C to a larger value. Generally setting C to a larger value makes the algorithm define well separable decision boundary taking into account the outliers as well, however setting C too large(relative term, have to experiment with the values) may cause overfitting"
      ]
    },
    {
      "metadata": {
        "id": "isFZTOsTaZDi",
        "colab_type": "code",
        "colab": {}
      },
      "cell_type": "code",
      "source": [
        "model = svm.SVC(C=10, gamma='scale')"
      ],
      "execution_count": 0,
      "outputs": []
    },
    {
      "metadata": {
        "id": "duEAQHSbawMX",
        "colab_type": "code",
        "outputId": "91b08fb9-6555-4d55-af4a-b76f4b8eeb48",
        "colab": {
          "base_uri": "https://localhost:8080/",
          "height": 85
        }
      },
      "cell_type": "code",
      "source": [
        "# training the model\n",
        "model.fit(X_train, y_train)"
      ],
      "execution_count": 0,
      "outputs": [
        {
          "output_type": "execute_result",
          "data": {
            "text/plain": [
              "SVC(C=10, cache_size=200, class_weight=None, coef0=0.0,\n",
              "  decision_function_shape='ovr', degree=3, gamma='scale', kernel='rbf',\n",
              "  max_iter=-1, probability=False, random_state=None, shrinking=True,\n",
              "  tol=0.001, verbose=False)"
            ]
          },
          "metadata": {
            "tags": []
          },
          "execution_count": 41
        }
      ]
    },
    {
      "metadata": {
        "id": "jOWpMZLeawnm",
        "colab_type": "code",
        "outputId": "47cd7b93-c411-41e4-e114-74fb8a1cd49a",
        "colab": {
          "base_uri": "https://localhost:8080/",
          "height": 51
        }
      },
      "cell_type": "code",
      "source": [
        "print(\"Accuracy on Training Set {}\".format(accuracy_score(y_train, model.predict(X_train))))\n",
        "print(\"Accuracy on Validation Set {}\".format(accuracy_score(y_val, model.predict(X_val))))"
      ],
      "execution_count": 0,
      "outputs": [
        {
          "output_type": "stream",
          "text": [
            "Accuracy on Training Set 0.9803125\n",
            "Accuracy on Validation Set 0.84125\n"
          ],
          "name": "stdout"
        }
      ]
    },
    {
      "metadata": {
        "id": "DBv46Fw3IIom",
        "colab_type": "text"
      },
      "cell_type": "markdown",
      "source": [
        "C=10 is close to overfitting the training set, but it provides better accuracy as well, so let's test on one more value of C=5"
      ]
    },
    {
      "metadata": {
        "id": "xfmFOedrHqN2",
        "colab_type": "code",
        "outputId": "13444067-ba5d-4281-f0f5-7d14914af00f",
        "colab": {
          "base_uri": "https://localhost:8080/",
          "height": 85
        }
      },
      "cell_type": "code",
      "source": [
        "model = svm.SVC(C=5, gamma='scale')\n",
        "# training the model\n",
        "model.fit(X_train, y_train)"
      ],
      "execution_count": 0,
      "outputs": [
        {
          "output_type": "execute_result",
          "data": {
            "text/plain": [
              "SVC(C=5, cache_size=200, class_weight=None, coef0=0.0,\n",
              "  decision_function_shape='ovr', degree=3, gamma='scale', kernel='rbf',\n",
              "  max_iter=-1, probability=False, random_state=None, shrinking=True,\n",
              "  tol=0.001, verbose=False)"
            ]
          },
          "metadata": {
            "tags": []
          },
          "execution_count": 43
        }
      ]
    },
    {
      "metadata": {
        "id": "erLff2jAHxBH",
        "colab_type": "code",
        "outputId": "d6865e93-97a4-4ff3-9bff-eab87655f55e",
        "colab": {
          "base_uri": "https://localhost:8080/",
          "height": 51
        }
      },
      "cell_type": "code",
      "source": [
        "print(\"Accuracy on Training Set {}\".format(accuracy_score(y_train, model.predict(X_train))))\n",
        "print(\"Accuracy on Validation Set {}\".format(accuracy_score(y_val, model.predict(X_val))))"
      ],
      "execution_count": 0,
      "outputs": [
        {
          "output_type": "stream",
          "text": [
            "Accuracy on Training Set 0.95171875\n",
            "Accuracy on Validation Set 0.84\n"
          ],
          "name": "stdout"
        }
      ]
    },
    {
      "metadata": {
        "id": "kyC-71mHRbTK",
        "colab_type": "text"
      },
      "cell_type": "markdown",
      "source": [
        "#### This change decreases the overfitting by 0.03 and the accuracy on the validation slightly, so we can go with C=5 since we have to account for overfitting as well"
      ]
    },
    {
      "metadata": {
        "id": "OzbQ8aMNS638",
        "colab_type": "text"
      },
      "cell_type": "markdown",
      "source": [
        "Let's test with the linear kernel, linear kernel in SVM is actually similar to logistic regression, hence we don't need to test with logistic regression separately. This algorithm is expected to give lower accuracy, as described above, but let's confirm"
      ]
    },
    {
      "metadata": {
        "id": "knuMXnElZjrM",
        "colab_type": "code",
        "colab": {}
      },
      "cell_type": "code",
      "source": [
        "model = svm.LinearSVC()"
      ],
      "execution_count": 0,
      "outputs": []
    },
    {
      "metadata": {
        "id": "Odxzl7VVaEJd",
        "colab_type": "code",
        "outputId": "4214edb5-82ed-41b3-8d02-433536a6386d",
        "colab": {
          "base_uri": "https://localhost:8080/",
          "height": 139
        }
      },
      "cell_type": "code",
      "source": [
        "model.fit(X_train, y_train)"
      ],
      "execution_count": 0,
      "outputs": [
        {
          "output_type": "stream",
          "text": [
            "/usr/local/lib/python3.6/dist-packages/sklearn/svm/base.py:931: ConvergenceWarning: Liblinear failed to converge, increase the number of iterations.\n",
            "  \"the number of iterations.\", ConvergenceWarning)\n"
          ],
          "name": "stderr"
        },
        {
          "output_type": "execute_result",
          "data": {
            "text/plain": [
              "LinearSVC(C=1.0, class_weight=None, dual=True, fit_intercept=True,\n",
              "     intercept_scaling=1, loss='squared_hinge', max_iter=1000,\n",
              "     multi_class='ovr', penalty='l2', random_state=None, tol=0.0001,\n",
              "     verbose=0)"
            ]
          },
          "metadata": {
            "tags": []
          },
          "execution_count": 46
        }
      ]
    },
    {
      "metadata": {
        "id": "0t9dRGPUaQAG",
        "colab_type": "code",
        "outputId": "aae5c594-ed20-405e-97b8-261fc07cb10b",
        "colab": {
          "base_uri": "https://localhost:8080/",
          "height": 51
        }
      },
      "cell_type": "code",
      "source": [
        "print(\"Accuracy on Training Set {}\".format(accuracy_score(y_train, model.predict(X_train))))\n",
        "print(\"Accuracy on Validation Set {}\".format(accuracy_score(y_val, model.predict(X_val))))"
      ],
      "execution_count": 0,
      "outputs": [
        {
          "output_type": "stream",
          "text": [
            "Accuracy on Training Set 0.85625\n",
            "Accuracy on Validation Set 0.74625\n"
          ],
          "name": "stdout"
        }
      ]
    },
    {
      "metadata": {
        "id": "mqlbkJTRTasU",
        "colab_type": "text"
      },
      "cell_type": "markdown",
      "source": [
        "It was expected to have a lower accuracy with linear kernel"
      ]
    },
    {
      "metadata": {
        "id": "H3lw0fygUHOw",
        "colab_type": "text"
      },
      "cell_type": "markdown",
      "source": [
        "Polynomial kernel is also expected to give less accuracy as compared to Gaussian as described above "
      ]
    },
    {
      "metadata": {
        "id": "oJWivhxtbl0g",
        "colab_type": "code",
        "colab": {}
      },
      "cell_type": "code",
      "source": [
        "model = svm.SVC(C=5, kernel='poly', gamma='scale')"
      ],
      "execution_count": 0,
      "outputs": []
    },
    {
      "metadata": {
        "id": "mbLfN4tuaVW1",
        "colab_type": "code",
        "outputId": "2720bf69-c26c-440e-b4fd-a808ef213269",
        "colab": {
          "base_uri": "https://localhost:8080/",
          "height": 85
        }
      },
      "cell_type": "code",
      "source": [
        "model.fit(X_train, y_train)"
      ],
      "execution_count": 0,
      "outputs": [
        {
          "output_type": "execute_result",
          "data": {
            "text/plain": [
              "SVC(C=10, cache_size=200, class_weight=None, coef0=0.0,\n",
              "  decision_function_shape='ovr', degree=3, gamma='scale', kernel='poly',\n",
              "  max_iter=-1, probability=False, random_state=None, shrinking=True,\n",
              "  tol=0.001, verbose=False)"
            ]
          },
          "metadata": {
            "tags": []
          },
          "execution_count": 56
        }
      ]
    },
    {
      "metadata": {
        "id": "KYw7zHkHcQ_z",
        "colab_type": "code",
        "outputId": "123b78ce-15f3-45a0-e7a6-cfbf17f7e2b6",
        "colab": {
          "base_uri": "https://localhost:8080/",
          "height": 51
        }
      },
      "cell_type": "code",
      "source": [
        "print(\"Accuracy on Training Set {}\".format(accuracy_score(y_train, model.predict(X_train))))\n",
        "print(\"Accuracy on Validation Set {}\".format(accuracy_score(y_val, model.predict(X_val))))"
      ],
      "execution_count": 0,
      "outputs": [
        {
          "output_type": "stream",
          "text": [
            "Accuracy on Training Set 0.97546875\n",
            "Accuracy on Validation Set 0.819375\n"
          ],
          "name": "stdout"
        }
      ]
    },
    {
      "metadata": {
        "id": "BAF6_ZPpUvJG",
        "colab_type": "text"
      },
      "cell_type": "markdown",
      "source": [
        "### So Model 2 had various sub-models(kernels and parameter tuning), finally we go with Gaussian Kernel with C=5"
      ]
    },
    {
      "metadata": {
        "id": "pw8OGZtoUqAO",
        "colab_type": "text"
      },
      "cell_type": "markdown",
      "source": [
        "## Model 3 --> *Naive Bayes* classifier. This works on Bayes theorem of probability for prediction of class."
      ]
    },
    {
      "metadata": {
        "id": "BUbnswHX91i3",
        "colab_type": "code",
        "colab": {}
      },
      "cell_type": "code",
      "source": [
        "# Naive Bayes\n",
        "model = GaussianNB()"
      ],
      "execution_count": 0,
      "outputs": []
    },
    {
      "metadata": {
        "id": "xf0dpgZrcm6w",
        "colab_type": "code",
        "outputId": "a6d23046-2927-4728-ac27-17fb0bafaeb1",
        "colab": {
          "base_uri": "https://localhost:8080/",
          "height": 34
        }
      },
      "cell_type": "code",
      "source": [
        "# training \n",
        "model.fit(X_train, y_train)"
      ],
      "execution_count": 0,
      "outputs": [
        {
          "output_type": "execute_result",
          "data": {
            "text/plain": [
              "GaussianNB(priors=None, var_smoothing=1e-09)"
            ]
          },
          "metadata": {
            "tags": []
          },
          "execution_count": 60
        }
      ]
    },
    {
      "metadata": {
        "id": "ZE7VzVcycoss",
        "colab_type": "code",
        "outputId": "4e566706-6386-46f9-ceb7-75a42e3b0b9d",
        "colab": {
          "base_uri": "https://localhost:8080/",
          "height": 51
        }
      },
      "cell_type": "code",
      "source": [
        "print(\"Accuracy on Training Set {}\".format(accuracy_score(y_train, model.predict(X_train))))\n",
        "print(\"Accuracy on Validation Set {}\".format(accuracy_score(y_val, model.predict(X_val))))"
      ],
      "execution_count": 0,
      "outputs": [
        {
          "output_type": "stream",
          "text": [
            "Accuracy on Training Set 0.64828125\n",
            "Accuracy on Validation Set 0.664375\n"
          ],
          "name": "stdout"
        }
      ]
    },
    {
      "metadata": {
        "id": "_KrDmwdCWt7q",
        "colab_type": "text"
      },
      "cell_type": "markdown",
      "source": [
        "Naive Bayes performs poorly "
      ]
    },
    {
      "metadata": {
        "id": "6A1CXF6MW0c3",
        "colab_type": "text"
      },
      "cell_type": "markdown",
      "source": [
        "## Model 4 --> *Decision Trees* classifiers. These make use of tree structure having root node splitting into branches and then each branch splitting further. Each node makes a decision. "
      ]
    },
    {
      "metadata": {
        "id": "nfHaI8DkW58O",
        "colab_type": "code",
        "colab": {}
      },
      "cell_type": "code",
      "source": [
        "model = DecisionTreeClassifier()"
      ],
      "execution_count": 0,
      "outputs": []
    },
    {
      "metadata": {
        "id": "bwgO5uhOXNDD",
        "colab_type": "code",
        "outputId": "573797a2-e54b-4e5b-b4b9-60b70ea387ad",
        "colab": {
          "base_uri": "https://localhost:8080/",
          "height": 119
        }
      },
      "cell_type": "code",
      "source": [
        "model.fit(X_train,y_train)"
      ],
      "execution_count": 0,
      "outputs": [
        {
          "output_type": "execute_result",
          "data": {
            "text/plain": [
              "DecisionTreeClassifier(class_weight=None, criterion='gini', max_depth=None,\n",
              "            max_features=None, max_leaf_nodes=None,\n",
              "            min_impurity_decrease=0.0, min_impurity_split=None,\n",
              "            min_samples_leaf=1, min_samples_split=2,\n",
              "            min_weight_fraction_leaf=0.0, presort=False, random_state=None,\n",
              "            splitter='best')"
            ]
          },
          "metadata": {
            "tags": []
          },
          "execution_count": 73
        }
      ]
    },
    {
      "metadata": {
        "id": "qSermL_oXSN9",
        "colab_type": "code",
        "outputId": "11f3bea8-e870-4f96-d6e1-bd69c0315e7a",
        "colab": {
          "base_uri": "https://localhost:8080/",
          "height": 51
        }
      },
      "cell_type": "code",
      "source": [
        "print(\"Accuracy on Training Set {}\".format(accuracy_score(y_train, model.predict(X_train))))\n",
        "print(\"Accuracy on Validation Set {}\".format(accuracy_score(y_val, model.predict(X_val))))"
      ],
      "execution_count": 0,
      "outputs": [
        {
          "output_type": "stream",
          "text": [
            "Accuracy on Training Set 1.0\n",
            "Accuracy on Validation Set 0.714375\n"
          ],
          "name": "stdout"
        }
      ]
    },
    {
      "metadata": {
        "id": "P9R9XHMMXr9c",
        "colab_type": "text"
      },
      "cell_type": "markdown",
      "source": [
        "Default parameters of decision trees performs poorly with overfitting the training set and providing a low accuracy, so we need to perform parameter tuning"
      ]
    },
    {
      "metadata": {
        "id": "jQfQFOqgXo05",
        "colab_type": "code",
        "colab": {}
      },
      "cell_type": "code",
      "source": [
        "# lowering max_depth might lower the overfitting, since large value of max_depth causes overfitting\n",
        "model = DecisionTreeClassifier(criterion = 'entropy', splitter = 'random', max_depth=10)"
      ],
      "execution_count": 0,
      "outputs": []
    },
    {
      "metadata": {
        "id": "lbfG2_P_YxoZ",
        "colab_type": "code",
        "outputId": "5208db95-50ae-4ee0-b97c-7533faa2927c",
        "colab": {
          "base_uri": "https://localhost:8080/",
          "height": 119
        }
      },
      "cell_type": "code",
      "source": [
        "# training the model\n",
        "model.fit(X_train,y_train)"
      ],
      "execution_count": 0,
      "outputs": [
        {
          "output_type": "execute_result",
          "data": {
            "text/plain": [
              "DecisionTreeClassifier(class_weight=None, criterion='entropy', max_depth=10,\n",
              "            max_features=None, max_leaf_nodes=None,\n",
              "            min_impurity_decrease=0.0, min_impurity_split=None,\n",
              "            min_samples_leaf=1, min_samples_split=2,\n",
              "            min_weight_fraction_leaf=0.0, presort=False, random_state=None,\n",
              "            splitter='random')"
            ]
          },
          "metadata": {
            "tags": []
          },
          "execution_count": 122
        }
      ]
    },
    {
      "metadata": {
        "id": "Fuor6JrZZEvN",
        "colab_type": "code",
        "outputId": "1d7f0b56-903e-4d35-fc3b-cfec0f2227a1",
        "colab": {
          "base_uri": "https://localhost:8080/",
          "height": 51
        }
      },
      "cell_type": "code",
      "source": [
        "# checking the accuracy on training and validation set\n",
        "print(\"Accuracy on Training Set {}\".format(accuracy_score(y_train, model.predict(X_train))))\n",
        "print(\"Accuracy on Validation Set {}\".format(accuracy_score(y_val, model.predict(X_val))))"
      ],
      "execution_count": 0,
      "outputs": [
        {
          "output_type": "stream",
          "text": [
            "Accuracy on Training Set 0.9140625\n",
            "Accuracy on Validation Set 0.76125\n"
          ],
          "name": "stdout"
        }
      ]
    },
    {
      "metadata": {
        "id": "Vl_Nn-JqZRAa",
        "colab_type": "text"
      },
      "cell_type": "markdown",
      "source": [
        "Lowers the overfitting and increases the accuracy"
      ]
    },
    {
      "metadata": {
        "id": "YAhFOa9JbPwR",
        "colab_type": "text"
      },
      "cell_type": "markdown",
      "source": [
        "## Model 5 --> *Random Forest* classifiers. These are basically a collection of decision tress and might outperform decision trees since it consists of multiple decision tress with each based on random sample and random forest is the aggregation of the performance of all the trees "
      ]
    },
    {
      "metadata": {
        "id": "OxwOT5Vqgjey",
        "colab_type": "code",
        "colab": {}
      },
      "cell_type": "code",
      "source": [
        "# n_estimators are the number of trees --> more the trees better the accuracy, but not too large\n",
        "model = RandomForestClassifier(n_estimators=10, n_jobs=-1)"
      ],
      "execution_count": 0,
      "outputs": []
    },
    {
      "metadata": {
        "id": "UHTlfrLvglbT",
        "colab_type": "code",
        "outputId": "f2e24cb9-51cd-403f-e16c-3a5f9ea5d0ef",
        "colab": {
          "base_uri": "https://localhost:8080/",
          "height": 136
        }
      },
      "cell_type": "code",
      "source": [
        "# training of model\n",
        "model.fit(X_train, y_train)"
      ],
      "execution_count": 0,
      "outputs": [
        {
          "output_type": "execute_result",
          "data": {
            "text/plain": [
              "RandomForestClassifier(bootstrap=True, class_weight=None, criterion='gini',\n",
              "            max_depth=None, max_features='auto', max_leaf_nodes=None,\n",
              "            min_impurity_decrease=0.0, min_impurity_split=None,\n",
              "            min_samples_leaf=1, min_samples_split=2,\n",
              "            min_weight_fraction_leaf=0.0, n_estimators=10, n_jobs=-1,\n",
              "            oob_score=False, random_state=None, verbose=0,\n",
              "            warm_start=False)"
            ]
          },
          "metadata": {
            "tags": []
          },
          "execution_count": 128
        }
      ]
    },
    {
      "metadata": {
        "id": "bAA1N0oXgsD3",
        "colab_type": "code",
        "outputId": "030dedd1-5c58-45bc-8168-a3215ca72fd6",
        "colab": {
          "base_uri": "https://localhost:8080/",
          "height": 51
        }
      },
      "cell_type": "code",
      "source": [
        "# checking the accuracy on training and validation set\n",
        "print(\"Accuracy on Training Set {}\".format(accuracy_score(y_train, model.predict(X_train))))\n",
        "print(\"Accuracy on Validation Set {}\".format(accuracy_score(y_val, model.predict(X_val))))"
      ],
      "execution_count": 0,
      "outputs": [
        {
          "output_type": "stream",
          "text": [
            "Accuracy on Training Set 0.9921875\n",
            "Accuracy on Validation Set 0.794375\n"
          ],
          "name": "stdout"
        }
      ]
    },
    {
      "metadata": {
        "id": "xofy4Bkle2LP",
        "colab_type": "text"
      },
      "cell_type": "markdown",
      "source": [
        "Generally random forsts prevent overfitting, but sometimes it might overfit due to same reason as decision tree, but it might outperform decision trees with the same depth. It might also overfit due to lots of unimportant features"
      ]
    },
    {
      "metadata": {
        "id": "6WqGkLIxgQT4",
        "colab_type": "code",
        "outputId": "a88454ea-0999-43dc-e972-1190029810e3",
        "colab": {
          "base_uri": "https://localhost:8080/",
          "height": 1071
        }
      },
      "cell_type": "code",
      "source": [
        "feature_imp = pd.Series(model.feature_importances_).sort_values(ascending=False)\n",
        "feature_imp"
      ],
      "execution_count": 0,
      "outputs": [
        {
          "output_type": "execute_result",
          "data": {
            "text/plain": [
              "610    0.041644\n",
              "621    0.041361\n",
              "453    0.040548\n",
              "190    0.034115\n",
              "565    0.020913\n",
              "526    0.020482\n",
              "425    0.020343\n",
              "499    0.018120\n",
              "145    0.016997\n",
              "106    0.015908\n",
              "247    0.015058\n",
              "202    0.015051\n",
              "230    0.013330\n",
              "37     0.012510\n",
              "400    0.011545\n",
              "720    0.011273\n",
              "245    0.011006\n",
              "770    0.008762\n",
              "17     0.008560\n",
              "200    0.007417\n",
              "739    0.007371\n",
              "772    0.006218\n",
              "38     0.005798\n",
              "46     0.005605\n",
              "742    0.005219\n",
              "746    0.004662\n",
              "35     0.004534\n",
              "773    0.004445\n",
              "258    0.004364\n",
              "256    0.004310\n",
              "         ...   \n",
              "755    0.000000\n",
              "756    0.000000\n",
              "757    0.000000\n",
              "393    0.000000\n",
              "392    0.000000\n",
              "364    0.000000\n",
              "168    0.000000\n",
              "55     0.000000\n",
              "83     0.000000\n",
              "84     0.000000\n",
              "110    0.000000\n",
              "111    0.000000\n",
              "113    0.000000\n",
              "138    0.000000\n",
              "139    0.000000\n",
              "140    0.000000\n",
              "167    0.000000\n",
              "195    0.000000\n",
              "363    0.000000\n",
              "196    0.000000\n",
              "224    0.000000\n",
              "249    0.000000\n",
              "279    0.000000\n",
              "280    0.000000\n",
              "281    0.000000\n",
              "308    0.000000\n",
              "335    0.000000\n",
              "336    0.000000\n",
              "362    0.000000\n",
              "0      0.000000\n",
              "Length: 784, dtype: float64"
            ]
          },
          "metadata": {
            "tags": []
          },
          "execution_count": 130
        }
      ]
    },
    {
      "metadata": {
        "id": "QC9TR1duhxVJ",
        "colab_type": "text"
      },
      "cell_type": "markdown",
      "source": [
        "As we can see towards the end there are a lot of unimportant features but we can't eliminate them since they are pixel values and they are unimportant by slight amount, so let's prune the random forest to the same depth as decision tree used above"
      ]
    },
    {
      "metadata": {
        "id": "KKFpKdI_cwJn",
        "colab_type": "code",
        "colab": {}
      },
      "cell_type": "code",
      "source": [
        "# max_depth = 10 -> pruning\n",
        "model = RandomForestClassifier(criterion = 'entropy', n_estimators=20, n_jobs=-1, max_depth=10)"
      ],
      "execution_count": 0,
      "outputs": []
    },
    {
      "metadata": {
        "id": "PlHIGLisfyeD",
        "colab_type": "code",
        "outputId": "14ec3208-97fd-4379-f912-f7d5fb935613",
        "colab": {
          "base_uri": "https://localhost:8080/",
          "height": 136
        }
      },
      "cell_type": "code",
      "source": [
        "model.fit(X_train, y_train)"
      ],
      "execution_count": 0,
      "outputs": [
        {
          "output_type": "execute_result",
          "data": {
            "text/plain": [
              "RandomForestClassifier(bootstrap=True, class_weight=None, criterion='entropy',\n",
              "            max_depth=10, max_features='auto', max_leaf_nodes=None,\n",
              "            min_impurity_decrease=0.0, min_impurity_split=None,\n",
              "            min_samples_leaf=1, min_samples_split=2,\n",
              "            min_weight_fraction_leaf=0.0, n_estimators=20, n_jobs=-1,\n",
              "            oob_score=False, random_state=None, verbose=0,\n",
              "            warm_start=False)"
            ]
          },
          "metadata": {
            "tags": []
          },
          "execution_count": 132
        }
      ]
    },
    {
      "metadata": {
        "id": "ao2IIacrf-Km",
        "colab_type": "code",
        "outputId": "f3cdb24d-92ad-408b-e17e-9835c2130cd0",
        "colab": {
          "base_uri": "https://localhost:8080/",
          "height": 51
        }
      },
      "cell_type": "code",
      "source": [
        "print(\"Accuracy on Training Set {}\".format(accuracy_score(y_train, model.predict(X_train))))\n",
        "print(\"Accuracy on Validation Set {}\".format(accuracy_score(y_val, model.predict(X_val))))"
      ],
      "execution_count": 0,
      "outputs": [
        {
          "output_type": "stream",
          "text": [
            "Accuracy on Training Set 0.96078125\n",
            "Accuracy on Validation Set 0.81125\n"
          ],
          "name": "stdout"
        }
      ]
    },
    {
      "metadata": {
        "id": "FqcM4s72i-DY",
        "colab_type": "text"
      },
      "cell_type": "markdown",
      "source": [
        "Performs much better than the previous random forest by decresing the overfitting and increasing the accuracy"
      ]
    },
    {
      "metadata": {
        "id": "78E3_ZZQi0LT",
        "colab_type": "text"
      },
      "cell_type": "markdown",
      "source": [
        "Let's try out one more variant, increasing the trees to 100"
      ]
    },
    {
      "metadata": {
        "id": "CjuJJIRrgI-q",
        "colab_type": "code",
        "colab": {}
      },
      "cell_type": "code",
      "source": [
        "model = RandomForestClassifier(criterion = 'entropy', n_estimators=100, n_jobs=-1, max_depth=10)"
      ],
      "execution_count": 0,
      "outputs": []
    },
    {
      "metadata": {
        "id": "UyB0HxSFgNSu",
        "colab_type": "code",
        "outputId": "754affb0-98fd-4183-f4d8-0adf76c4140d",
        "colab": {
          "base_uri": "https://localhost:8080/",
          "height": 136
        }
      },
      "cell_type": "code",
      "source": [
        "model.fit(X_train, y_train)"
      ],
      "execution_count": 0,
      "outputs": [
        {
          "output_type": "execute_result",
          "data": {
            "text/plain": [
              "RandomForestClassifier(bootstrap=True, class_weight=None, criterion='entropy',\n",
              "            max_depth=10, max_features='auto', max_leaf_nodes=None,\n",
              "            min_impurity_decrease=0.0, min_impurity_split=None,\n",
              "            min_samples_leaf=1, min_samples_split=2,\n",
              "            min_weight_fraction_leaf=0.0, n_estimators=100, n_jobs=-1,\n",
              "            oob_score=False, random_state=None, verbose=0,\n",
              "            warm_start=False)"
            ]
          },
          "metadata": {
            "tags": []
          },
          "execution_count": 135
        }
      ]
    },
    {
      "metadata": {
        "id": "u4XUaJI_gPT8",
        "colab_type": "code",
        "outputId": "b68c663e-1548-499f-80f5-17502bd0eb4e",
        "colab": {
          "base_uri": "https://localhost:8080/",
          "height": 51
        }
      },
      "cell_type": "code",
      "source": [
        "print(\"Accuracy on Training Set {}\".format(accuracy_score(y_train, model.predict(X_train))))\n",
        "print(\"Accuracy on Validation Set {}\".format(accuracy_score(y_val, model.predict(X_val))))"
      ],
      "execution_count": 0,
      "outputs": [
        {
          "output_type": "stream",
          "text": [
            "Accuracy on Training Set 0.9684375\n",
            "Accuracy on Validation Set 0.815625\n"
          ],
          "name": "stdout"
        }
      ]
    },
    {
      "metadata": {
        "id": "Rxm_nWGTj4Ja",
        "colab_type": "text"
      },
      "cell_type": "markdown",
      "source": [
        "Doesn't effect much"
      ]
    },
    {
      "metadata": {
        "id": "MX_f4TzvjXZo",
        "colab_type": "text"
      },
      "cell_type": "markdown",
      "source": [
        "# So out of all machine learning models we are choosing Model 2 --> SVM classifier with Gaussian kernel and C=5 which outperforms all models described in this notebook"
      ]
    }
  ]
}